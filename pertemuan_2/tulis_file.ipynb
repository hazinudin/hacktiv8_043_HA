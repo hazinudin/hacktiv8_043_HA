{
 "cells": [
  {
   "cell_type": "code",
   "execution_count": 2,
   "metadata": {},
   "outputs": [],
   "source": [
    "file_handler = open(\"coba.txt\", \"w\")\n",
    "file_handler.write(\"If he dies, he dies\\n\")\n",
    "file_handler.write(\"Ivan Drago, Rocky IV\")\n",
    "file_handler.close()"
   ]
  },
  {
   "cell_type": "code",
   "execution_count": 12,
   "metadata": {},
   "outputs": [
    {
     "name": "stdout",
     "output_type": "stream",
     "text": [
      "If he dies, he dies\n",
      "\n",
      "Ivan Drago, Rocky IV\n"
     ]
    }
   ],
   "source": [
    "with open(\"coba.txt\") as file_handler:\n",
    "    for x in file_handler:\n",
    "        print(x)"
   ]
  },
  {
   "cell_type": "code",
   "execution_count": null,
   "metadata": {},
   "outputs": [],
   "source": []
  }
 ],
 "metadata": {
  "kernelspec": {
   "display_name": "Python 3",
   "language": "python",
   "name": "python3"
  },
  "language_info": {
   "codemirror_mode": {
    "name": "ipython",
    "version": 3
   },
   "file_extension": ".py",
   "mimetype": "text/x-python",
   "name": "python",
   "nbconvert_exporter": "python",
   "pygments_lexer": "ipython3",
   "version": "3.6.8"
  }
 },
 "nbformat": 4,
 "nbformat_minor": 2
}
